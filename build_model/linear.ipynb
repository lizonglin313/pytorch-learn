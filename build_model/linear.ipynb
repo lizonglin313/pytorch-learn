{
 "cells": [
  {
   "cell_type": "code",
   "execution_count": 13,
   "metadata": {},
   "outputs": [
    {
     "data": {
      "text/plain": [
       "[<matplotlib.lines.Line2D at 0x1bf9e6570a0>]"
      ]
     },
     "execution_count": 13,
     "metadata": {},
     "output_type": "execute_result"
    },
    {
     "data": {
      "image/png": "[encoded data removed]",
      "text/plain": [
       "<Figure size 432x288 with 1 Axes>"
      ]
     },
     "metadata": {
      "needs_background": "light"
     },
     "output_type": "display_data"
    }
   ],
   "source": [
    "import numpy as np\n",
    "import random\n",
    "from matplotlib import pyplot as plt\n",
    "\n",
    "w = 2\n",
    "b = 3\n",
    "xlim = [-10, 10]\n",
    "x_train = np.random.randint(low=xlim[0], high=xlim[1], size=30)\n",
    "\n",
    "y_train = [w * x + b + random.randint(0,2) for x in x_train]\n",
    "\n",
    "plt.plot(x_train, y_train, 'bo')"
   ]
  },
  {
   "cell_type": "code",
   "execution_count": 14,
   "metadata": {},
   "outputs": [],
   "source": [
    "import torch\n",
    "from torch import nn\n",
    "\n",
    "class LinearModel(nn.Module):\n",
    "    def __init__(self):\n",
    "        super().__init__()\n",
    "        self.weight = nn.Parameter(torch.randn(1))\n",
    "        self.bias = nn.Parameter(torch.randn(1))\n",
    "\n",
    "    def forward(self, input):\n",
    "        return (input * self.weight) + self.bias"
   ]
  },
  {
   "cell_type": "code",
   "execution_count": 15,
   "metadata": {},
   "outputs": [
    {
     "name": "stdout",
     "output_type": "stream",
     "text": [
      "('weight', Parameter containing:\n",
      "tensor([1.9853], requires_grad=True))\n",
      "('bias', Parameter containing:\n",
      "tensor([3.4844], requires_grad=True))\n"
     ]
    }
   ],
   "source": [
    "model = LinearModel()\n",
    "\n",
    "optimizer = torch.optim.SGD(model.parameters(), lr=1e-4, weight_decay=1e-2, momentum=0.9)\n",
    "y_train = torch.tensor(y_train, dtype=torch.float32)\n",
    "for _ in range (1000):\n",
    "    input = torch.from_numpy(x_train)\n",
    "    output = model(input)\n",
    "    loss = nn.MSELoss()(output, y_train)\n",
    "    model.zero_grad()\n",
    "    loss.backward()\n",
    "    optimizer.step()\n",
    "\n",
    "for parameter in model.named_parameters(): \n",
    "    print(parameter)"
   ]
  }
 ],
 "metadata": {
  "interpreter": {
   "hash": "fcf34018491d9bd3ef31166662b4dd1e52e7c1b62f1d6d6644835049dcdb0d97"
  },
  "kernelspec": {
   "display_name": "Python 3.9.11 64-bit",
   "language": "python",
   "name": "python3"
  },
  "language_info": {
   "codemirror_mode": {
    "name": "ipython",
    "version": 3
   },
   "file_extension": ".py",
   "mimetype": "text/x-python",
   "name": "python",
   "nbconvert_exporter": "python",
   "pygments_lexer": "ipython3",
   "version": "3.9.11"
  },
  "orig_nbformat": 4
 },
 "nbformat": 4,
 "nbformat_minor": 2
}
