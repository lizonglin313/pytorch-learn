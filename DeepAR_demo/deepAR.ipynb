{
 "cells": [
  {
   "cell_type": "code",
   "execution_count": 3,
   "metadata": {},
   "outputs": [],
   "source": [
    "import time\n",
    "import numpy as np\n",
    "import pandas as pd\n",
    "import json\n",
    "import matplotlib.pyplot as plt\n",
    "import boto3\n",
    "import sagemaker\n",
    "from sagemaker import get_execution_role"
   ]
  },
  {
   "cell_type": "code",
   "execution_count": 4,
   "metadata": {},
   "outputs": [],
   "source": [
    "np.random.seed(1)"
   ]
  },
  {
   "cell_type": "code",
   "execution_count": 5,
   "metadata": {},
   "outputs": [
    {
     "ename": "ValueError",
     "evalue": "Must setup local AWS configuration with a region supported by SageMaker.",
     "output_type": "error",
     "traceback": [
      "\u001b[1;31m---------------------------------------------------------------------------\u001b[0m",
      "\u001b[1;31mValueError\u001b[0m                                Traceback (most recent call last)",
      "\u001b[1;32md:\\Coding\\WorkPlace\\pytorch-learn\\DeepAR_demo\\deepAR.ipynb Cell 3'\u001b[0m in \u001b[0;36m<cell line: 3>\u001b[1;34m()\u001b[0m\n\u001b[0;32m      <a href='vscode-notebook-cell:/d%3A/Coding/WorkPlace/pytorch-learn/DeepAR_demo/deepAR.ipynb#ch0000002?line=0'>1</a>\u001b[0m prefix \u001b[39m=\u001b[39m \u001b[39m\"\u001b[39m\u001b[39msagemaker/DEMO-deepar\u001b[39m\u001b[39m\"\u001b[39m\n\u001b[1;32m----> <a href='vscode-notebook-cell:/d%3A/Coding/WorkPlace/pytorch-learn/DeepAR_demo/deepAR.ipynb#ch0000002?line=2'>3</a>\u001b[0m sagemaker_session \u001b[39m=\u001b[39m sagemaker\u001b[39m.\u001b[39;49mSession()\n\u001b[0;32m      <a href='vscode-notebook-cell:/d%3A/Coding/WorkPlace/pytorch-learn/DeepAR_demo/deepAR.ipynb#ch0000002?line=3'>4</a>\u001b[0m role \u001b[39m=\u001b[39m get_execution_role()\n\u001b[0;32m      <a href='vscode-notebook-cell:/d%3A/Coding/WorkPlace/pytorch-learn/DeepAR_demo/deepAR.ipynb#ch0000002?line=4'>5</a>\u001b[0m bucket \u001b[39m=\u001b[39m sagemaker_session\u001b[39m.\u001b[39mdefault_bucket()\n",
      "File \u001b[1;32md:\\Coding\\Python\\python39\\lib\\site-packages\\sagemaker\\session.py:127\u001b[0m, in \u001b[0;36mSession.__init__\u001b[1;34m(self, boto_session, sagemaker_client, sagemaker_runtime_client, sagemaker_featurestore_runtime_client, default_bucket, settings)\u001b[0m\n\u001b[0;32m    <a href='file:///d%3A/Coding/Python/python39/lib/site-packages/sagemaker/session.py?line=123'>124</a>\u001b[0m \u001b[39mself\u001b[39m\u001b[39m.\u001b[39mlambda_client \u001b[39m=\u001b[39m \u001b[39mNone\u001b[39;00m\n\u001b[0;32m    <a href='file:///d%3A/Coding/Python/python39/lib/site-packages/sagemaker/session.py?line=124'>125</a>\u001b[0m \u001b[39mself\u001b[39m\u001b[39m.\u001b[39msettings \u001b[39m=\u001b[39m settings\n\u001b[1;32m--> <a href='file:///d%3A/Coding/Python/python39/lib/site-packages/sagemaker/session.py?line=126'>127</a>\u001b[0m \u001b[39mself\u001b[39;49m\u001b[39m.\u001b[39;49m_initialize(\n\u001b[0;32m    <a href='file:///d%3A/Coding/Python/python39/lib/site-packages/sagemaker/session.py?line=127'>128</a>\u001b[0m     boto_session\u001b[39m=\u001b[39;49mboto_session,\n\u001b[0;32m    <a href='file:///d%3A/Coding/Python/python39/lib/site-packages/sagemaker/session.py?line=128'>129</a>\u001b[0m     sagemaker_client\u001b[39m=\u001b[39;49msagemaker_client,\n\u001b[0;32m    <a href='file:///d%3A/Coding/Python/python39/lib/site-packages/sagemaker/session.py?line=129'>130</a>\u001b[0m     sagemaker_runtime_client\u001b[39m=\u001b[39;49msagemaker_runtime_client,\n\u001b[0;32m    <a href='file:///d%3A/Coding/Python/python39/lib/site-packages/sagemaker/session.py?line=130'>131</a>\u001b[0m     sagemaker_featurestore_runtime_client\u001b[39m=\u001b[39;49msagemaker_featurestore_runtime_client,\n\u001b[0;32m    <a href='file:///d%3A/Coding/Python/python39/lib/site-packages/sagemaker/session.py?line=131'>132</a>\u001b[0m )\n",
      "File \u001b[1;32md:\\Coding\\Python\\python39\\lib\\site-packages\\sagemaker\\session.py:150\u001b[0m, in \u001b[0;36mSession._initialize\u001b[1;34m(self, boto_session, sagemaker_client, sagemaker_runtime_client, sagemaker_featurestore_runtime_client)\u001b[0m\n\u001b[0;32m    <a href='file:///d%3A/Coding/Python/python39/lib/site-packages/sagemaker/session.py?line=147'>148</a>\u001b[0m \u001b[39mself\u001b[39m\u001b[39m.\u001b[39m_region_name \u001b[39m=\u001b[39m \u001b[39mself\u001b[39m\u001b[39m.\u001b[39mboto_session\u001b[39m.\u001b[39mregion_name\n\u001b[0;32m    <a href='file:///d%3A/Coding/Python/python39/lib/site-packages/sagemaker/session.py?line=148'>149</a>\u001b[0m \u001b[39mif\u001b[39;00m \u001b[39mself\u001b[39m\u001b[39m.\u001b[39m_region_name \u001b[39mis\u001b[39;00m \u001b[39mNone\u001b[39;00m:\n\u001b[1;32m--> <a href='file:///d%3A/Coding/Python/python39/lib/site-packages/sagemaker/session.py?line=149'>150</a>\u001b[0m     \u001b[39mraise\u001b[39;00m \u001b[39mValueError\u001b[39;00m(\n\u001b[0;32m    <a href='file:///d%3A/Coding/Python/python39/lib/site-packages/sagemaker/session.py?line=150'>151</a>\u001b[0m         \u001b[39m\"\u001b[39m\u001b[39mMust setup local AWS configuration with a region supported by SageMaker.\u001b[39m\u001b[39m\"\u001b[39m\n\u001b[0;32m    <a href='file:///d%3A/Coding/Python/python39/lib/site-packages/sagemaker/session.py?line=151'>152</a>\u001b[0m     )\n\u001b[0;32m    <a href='file:///d%3A/Coding/Python/python39/lib/site-packages/sagemaker/session.py?line=153'>154</a>\u001b[0m \u001b[39mself\u001b[39m\u001b[39m.\u001b[39msagemaker_client \u001b[39m=\u001b[39m sagemaker_client \u001b[39mor\u001b[39;00m \u001b[39mself\u001b[39m\u001b[39m.\u001b[39mboto_session\u001b[39m.\u001b[39mclient(\u001b[39m\"\u001b[39m\u001b[39msagemaker\u001b[39m\u001b[39m\"\u001b[39m)\n\u001b[0;32m    <a href='file:///d%3A/Coding/Python/python39/lib/site-packages/sagemaker/session.py?line=154'>155</a>\u001b[0m prepend_user_agent(\u001b[39mself\u001b[39m\u001b[39m.\u001b[39msagemaker_client)\n",
      "\u001b[1;31mValueError\u001b[0m: Must setup local AWS configuration with a region supported by SageMaker."
     ]
    }
   ],
   "source": [
    "prefix = \"sagemaker/DEMO-deepar\"\n",
    "\n",
    "sagemaker_session = sagemaker.Session()\n",
    "role = get_execution_role()\n",
    "bucket = sagemaker_session.default_bucket()\n",
    "\n",
    "s3_data_path = f\"{bucket}/{prefix}/data\"\n",
    "s3_output_path = f\"{bucket}/{prefix}/output\""
   ]
  }
 ],
 "metadata": {
  "interpreter": {
   "hash": "fcf34018491d9bd3ef31166662b4dd1e52e7c1b62f1d6d6644835049dcdb0d97"
  },
  "kernelspec": {
   "display_name": "Python 3.9.11 64-bit",
   "language": "python",
   "name": "python3"
  },
  "language_info": {
   "codemirror_mode": {
    "name": "ipython",
    "version": 3
   },
   "file_extension": ".py",
   "mimetype": "text/x-python",
   "name": "python",
   "nbconvert_exporter": "python",
   "pygments_lexer": "ipython3",
   "version": "3.9.11"
  },
  "orig_nbformat": 4
 },
 "nbformat": 4,
 "nbformat_minor": 2
}
