{
 "cells": [
  {
   "cell_type": "code",
   "execution_count": 2,
   "metadata": {},
   "outputs": [
    {
     "name": "stdout",
     "output_type": "stream",
     "text": [
      "[1]\n",
      "[[1 2]\n",
      " [3 4]]\n"
     ]
    }
   ],
   "source": [
    "import numpy as np\n",
    "\n",
    "arr_1_d = np.asarray([1]) # 浅拷贝\n",
    "print(arr_1_d)\n",
    "\n",
    "arr_2_d = np.array([[1,2], [3,4]])  # 深拷贝\n",
    "print(arr_2_d)"
   ]
  },
  {
   "cell_type": "markdown",
   "metadata": {},
   "source": [
    "#### ndim 数组维度，轴的个数"
   ]
  },
  {
   "cell_type": "code",
   "execution_count": 3,
   "metadata": {},
   "outputs": [
    {
     "data": {
      "text/plain": [
       "(1, 2)"
      ]
     },
     "execution_count": 3,
     "metadata": {},
     "output_type": "execute_result"
    }
   ],
   "source": [
    "arr_1_d.ndim, arr_2_d.ndim"
   ]
  },
  {
   "cell_type": "markdown",
   "metadata": {},
   "source": [
    "#### shape 数组维度或者形状，一个整数元组"
   ]
  },
  {
   "cell_type": "code",
   "execution_count": 4,
   "metadata": {},
   "outputs": [
    {
     "data": {
      "text/plain": [
       "((1,), (2, 2))"
      ]
     },
     "execution_count": 4,
     "metadata": {},
     "output_type": "execute_result"
    }
   ],
   "source": [
    "arr_1_d.shape, arr_2_d.shape"
   ]
  },
  {
   "cell_type": "code",
   "execution_count": 5,
   "metadata": {},
   "outputs": [
    {
     "data": {
      "text/plain": [
       "array([[1],\n",
       "       [2],\n",
       "       [3],\n",
       "       [4]])"
      ]
     },
     "execution_count": 5,
     "metadata": {},
     "output_type": "execute_result"
    }
   ],
   "source": [
    "# 将 arr_2_d 转为 4行1列\n",
    "arr_2_d.reshape((4,1))"
   ]
  },
  {
   "cell_type": "markdown",
   "metadata": {},
   "source": [
    "##### reshape 用法\n",
    "`np.reshape(a, newshape, order)`\n",
    "- a: 要变换的数组\n",
    "- newshape: 新的形状\n",
    "- order: 'C'行优先(默认) 'F'列优先 'A'按照原数组的来\n",
    "\n",
    "即，按照指定的方式 C or F 将数组展开，再用指定方式写到新数组中"
   ]
  },
  {
   "cell_type": "markdown",
   "metadata": {},
   "source": [
    "#### size 数组元素的总数 也是 shape(a,b) 中的 a*b"
   ]
  },
  {
   "cell_type": "code",
   "execution_count": 6,
   "metadata": {},
   "outputs": [
    {
     "data": {
      "text/plain": [
       "4"
      ]
     },
     "execution_count": 6,
     "metadata": {},
     "output_type": "execute_result"
    }
   ],
   "source": [
    "arr_2_d.size"
   ]
  },
  {
   "cell_type": "markdown",
   "metadata": {},
   "source": [
    "#### dtype 数组元素类型的对象"
   ]
  },
  {
   "cell_type": "code",
   "execution_count": 7,
   "metadata": {},
   "outputs": [
    {
     "data": {
      "text/plain": [
       "dtype('int32')"
      ]
     },
     "execution_count": 7,
     "metadata": {},
     "output_type": "execute_result"
    }
   ],
   "source": [
    "arr_2_d.dtype"
   ]
  },
  {
   "cell_type": "code",
   "execution_count": 8,
   "metadata": {},
   "outputs": [
    {
     "data": {
      "text/plain": [
       "dtype('float64')"
      ]
     },
     "execution_count": 8,
     "metadata": {},
     "output_type": "execute_result"
    }
   ],
   "source": [
    "arr_2_d = np.array([[1,2], [3,4]], dtype='float')\n",
    "arr_2_d.dtype"
   ]
  },
  {
   "cell_type": "markdown",
   "metadata": {},
   "source": [
    "##### astype() 改变数组元素数据类型 不改变原来数组，会在原基础上创建新的数组"
   ]
  },
  {
   "cell_type": "code",
   "execution_count": 10,
   "metadata": {},
   "outputs": [
    {
     "data": {
      "text/plain": [
       "dtype('int32')"
      ]
     },
     "execution_count": 10,
     "metadata": {},
     "output_type": "execute_result"
    }
   ],
   "source": [
    "new_arr_2_d = arr_2_d.astype('int32')\n",
    "new_arr_2_d.dtype"
   ]
  },
  {
   "cell_type": "markdown",
   "metadata": {},
   "source": [
    "#### 其他数组创建方式"
   ]
  },
  {
   "cell_type": "code",
   "execution_count": 11,
   "metadata": {},
   "outputs": [
    {
     "name": "stdout",
     "output_type": "stream",
     "text": [
      "[[1 1 1]\n",
      " [1 1 1]]\n",
      "[[0. 0. 0.]\n",
      " [0. 0. 0.]\n",
      " [0. 0. 0.]]\n",
      "[0 1 2 3 4]\n",
      "[2 3 4]\n",
      "[2 5 8]\n"
     ]
    }
   ],
   "source": [
    "ones = np.ones(shape=(2,3), dtype='int32')    # 必须传入数组形状\n",
    "zeros = np.zeros(shape=(3,3))\n",
    "\n",
    "a5 = np.arange(5)\n",
    "a_2_to_4 = np.arange(2, 5)\n",
    "a_2_to_8_k3 = np.arange(2, 9, 3)\n",
    "\n",
    "print(ones)\n",
    "print(zeros)\n",
    "print(a5)\n",
    "print(a_2_to_4)\n",
    "print(a_2_to_8_k3)\n",
    "\n",
    "# 等差数列\n",
    "# np.linspace(start必选, stop必选, num=50个数默认50, endpoint=True True最后一个元素是stop, retstep=False是否返回公差, dtype=None)\n",
    "np.linspace()"
   ]
  },
  {
   "cell_type": "markdown",
   "metadata": {},
   "source": [
    "#### 数组的轴\n",
    "0 轴 Y 方向\n",
    "1 轴 X 方向"
   ]
  },
  {
   "cell_type": "code",
   "execution_count": 13,
   "metadata": {},
   "outputs": [
    {
     "data": {
      "text/plain": [
       "(array([16, 13, 18]), array([16, 11, 13,  7]))"
      ]
     },
     "execution_count": 13,
     "metadata": {},
     "output_type": "execute_result"
    }
   ],
   "source": [
    "m = np.array([\n",
    "    [4,7,5],\n",
    "    [4,2,5],\n",
    "    [7,2,4],\n",
    "    [1,2,4]])\n",
    "np.sum(m, axis=0), np.sum(m, axis=1)"
   ]
  }
 ],
 "metadata": {
  "interpreter": {
   "hash": "1739f6e0e89fcd894fe29539149c08dba41a8268ecb7ee85cdff66323e10de9d"
  },
  "kernelspec": {
   "display_name": "Python 3.9.6 64-bit",
   "language": "python",
   "name": "python3"
  },
  "language_info": {
   "codemirror_mode": {
    "name": "ipython",
    "version": 3
   },
   "file_extension": ".py",
   "mimetype": "text/x-python",
   "name": "python",
   "nbconvert_exporter": "python",
   "pygments_lexer": "ipython3",
   "version": "3.9.6"
  },
  "orig_nbformat": 4
 },
 "nbformat": 4,
 "nbformat_minor": 2
}
