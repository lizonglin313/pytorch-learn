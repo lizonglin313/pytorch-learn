{
 "cells": [
  {
   "cell_type": "code",
   "execution_count": 1,
   "metadata": {},
   "outputs": [
    {
     "ename": "TypeError",
     "evalue": "'MapperIterDataPipe' object is not an iterator",
     "output_type": "error",
     "traceback": [
      "\u001b[1;31m---------------------------------------------------------------------------\u001b[0m",
      "\u001b[1;31mTypeError\u001b[0m                                 Traceback (most recent call last)",
      "\u001b[1;32md:\\Coding\\WorkPlace\\pytorch-learn\\NLP\\LSTM.ipynb Cell 1'\u001b[0m in \u001b[0;36m<cell line: 4>\u001b[1;34m()\u001b[0m\n\u001b[0;32m      <a href='vscode-notebook-cell:/d%3A/Coding/WorkPlace/pytorch-learn/NLP/LSTM.ipynb#ch0000000?line=1'>2</a>\u001b[0m \u001b[39mimport\u001b[39;00m \u001b[39mtorchtext\u001b[39;00m\n\u001b[0;32m      <a href='vscode-notebook-cell:/d%3A/Coding/WorkPlace/pytorch-learn/NLP/LSTM.ipynb#ch0000000?line=2'>3</a>\u001b[0m train_iter \u001b[39m=\u001b[39m torchtext\u001b[39m.\u001b[39mdatasets\u001b[39m.\u001b[39mIMDB(root\u001b[39m=\u001b[39m\u001b[39m'\u001b[39m\u001b[39m./data\u001b[39m\u001b[39m'\u001b[39m, split\u001b[39m=\u001b[39m\u001b[39m'\u001b[39m\u001b[39mtrain\u001b[39m\u001b[39m'\u001b[39m)\n\u001b[1;32m----> <a href='vscode-notebook-cell:/d%3A/Coding/WorkPlace/pytorch-learn/NLP/LSTM.ipynb#ch0000000?line=3'>4</a>\u001b[0m \u001b[39mnext\u001b[39;49m(train_iter)\n",
      "\u001b[1;31mTypeError\u001b[0m: 'MapperIterDataPipe' object is not an iterator"
     ]
    }
   ],
   "source": [
    "# 读取IMDB数据集\n",
    "import torchtext\n",
    "train_iter = torchtext.datasets.IMDB(root='./data', split='train')\n",
    "next(train_iter)"
   ]
  }
 ],
 "metadata": {
  "interpreter": {
   "hash": "fcf34018491d9bd3ef31166662b4dd1e52e7c1b62f1d6d6644835049dcdb0d97"
  },
  "kernelspec": {
   "display_name": "Python 3.9.11 64-bit",
   "language": "python",
   "name": "python3"
  },
  "language_info": {
   "codemirror_mode": {
    "name": "ipython",
    "version": 3
   },
   "file_extension": ".py",
   "mimetype": "text/x-python",
   "name": "python",
   "nbconvert_exporter": "python",
   "pygments_lexer": "ipython3",
   "version": "3.9.11"
  },
  "orig_nbformat": 4
 },
 "nbformat": 4,
 "nbformat_minor": 2
}
