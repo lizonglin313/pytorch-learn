{
 "cells": [
  {
   "cell_type": "code",
   "execution_count": 7,
   "metadata": {},
   "outputs": [
    {
     "name": "stdout",
     "output_type": "stream",
     "text": [
      "0.0\n"
     ]
    }
   ],
   "source": [
    "from nltk import word_tokenize\n",
    "from nltk import TextCollection\n",
    "\n",
    "\n",
    "sents=['i like jike','i want to eat apple','i like lady gaga']\n",
    "# 首先进行分词\n",
    "sents=[word_tokenize(sent) for sent in sents]\n",
    "\n",
    "# 构建语料库\n",
    "corpus=TextCollection(sents)\n",
    "\n",
    "# 计算TF\n",
    "tf=corpus.tf('one',corpus)\n",
    "\n",
    "# 计算IDF\n",
    "idf=corpus.idf('one')\n",
    "\n",
    "# 计算任意一个单词的TF-IDF\n",
    "tf_idf=corpus.tf_idf('one',corpus)\n",
    "print(tf_idf)"
   ]
  },
  {
   "cell_type": "code",
   "execution_count": null,
   "metadata": {},
   "outputs": [],
   "source": []
  }
 ],
 "metadata": {
  "interpreter": {
   "hash": "fcf34018491d9bd3ef31166662b4dd1e52e7c1b62f1d6d6644835049dcdb0d97"
  },
  "kernelspec": {
   "display_name": "Python 3.9.11 64-bit",
   "language": "python",
   "name": "python3"
  },
  "language_info": {
   "codemirror_mode": {
    "name": "ipython",
    "version": 3
   },
   "file_extension": ".py",
   "mimetype": "text/x-python",
   "name": "python",
   "nbconvert_exporter": "python",
   "pygments_lexer": "ipython3",
   "version": "3.9.11"
  },
  "orig_nbformat": 4
 },
 "nbformat": 4,
 "nbformat_minor": 2
}
