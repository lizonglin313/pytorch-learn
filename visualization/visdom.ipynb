{
 "cells": [
  {
   "cell_type": "code",
   "execution_count": 2,
   "metadata": {},
   "outputs": [
    {
     "name": "stderr",
     "output_type": "stream",
     "text": [
      "Setting up a new session...\n"
     ]
    },
    {
     "data": {
      "text/plain": [
       "'window_3ac9e6d792117a'"
      ]
     },
     "execution_count": 2,
     "metadata": {},
     "output_type": "execute_result"
    }
   ],
   "source": [
    "from visdom import Visdom\n",
    "import numpy as np\n",
    "import time\n",
    "\n",
    "\n",
    "# 在终端启动 visdom 服务\n",
    "# python -m visdom.server\n",
    "\n",
    "# 将窗口类实例化\n",
    "viz = Visdom() \n",
    "# 创建窗口并初始化\n",
    "viz.line([0.], [0], win='train_loss', opts=dict(title='train_loss'))\n",
    "\n",
    "for n_iter in range(10):\n",
    "    # 随机获取loss值\n",
    "    loss = 0.2 * np.random.randn() + 1\n",
    "    # 更新窗口图像\n",
    "    viz.line([loss], [n_iter], win='train_loss', update='append')\n",
    "    time.sleep(0.5)\n",
    "\n",
    "img = np.zeros((3, 100, 100))\n",
    "img[0] = np.arange(0, 10000).reshape(100, 100) / 10000\n",
    "img[1] = 1 - np.arange(0, 10000).reshape(100, 100) / 10000\n",
    "# 可视化图像\n",
    "viz.image(img)"
   ]
  },
  {
   "cell_type": "code",
   "execution_count": 6,
   "metadata": {},
   "outputs": [
    {
     "name": "stderr",
     "output_type": "stream",
     "text": [
      "Setting up a new session...\n"
     ]
    }
   ],
   "source": [
    "from visdom import Visdom\n",
    "from torch import nn\n",
    "import numpy as np\n",
    "import random\n",
    "import torch\n",
    "\n",
    "# 定义训练数据\n",
    "w = 2\n",
    "b = 3\n",
    "xlim = [-10, 10]\n",
    "x_train = np.random.randint(low=xlim[0], high=xlim[1], size=30)\n",
    "y_train = [w * x + b + random.randint(0,2) for x in x_train]\n",
    "\n",
    "# 模型定义\n",
    "class LinearModel(nn.Module):\n",
    "  def __init__(self):\n",
    "    super().__init__()\n",
    "    self.weight = nn.Parameter(torch.randn(1))\n",
    "    self.bias = nn.Parameter(torch.randn(1))\n",
    "\n",
    "  def forward(self, input):\n",
    "    return (input * self.weight) + self.bias\n",
    "\n",
    "# 训练\n",
    "model = LinearModel()\n",
    "optimizer = torch.optim.SGD(model.parameters(), lr=1e-4, weight_decay=1e-2, momentum=0.9)\n",
    "y_train = torch.tensor(y_train, dtype=torch.float32)\n",
    "\n",
    "# 实例化一个窗口\n",
    "viz = Visdom(port=8097)\n",
    "# 初始化窗口的信息\n",
    "viz.line([0.], [0.], win='train_loss', opts=dict(title='train loss'))\n",
    "\n",
    "for n_iter in range(500):\n",
    "    input = torch.from_numpy(x_train)\n",
    "    output = model(input)\n",
    "    loss = nn.MSELoss()(output, y_train)\n",
    "    model.zero_grad()\n",
    "    loss.backward(\n",
    "    optimizer.step()\n",
    "    # 更新监听的信息\n",
    "    viz.line([loss.item()], [n_iter], win='train_loss', update='append')\n"
   ]
  },
  {
   "cell_type": "code",
   "execution_count": 14,
   "metadata": {},
   "outputs": [
    {
     "name": "stderr",
     "output_type": "stream",
     "text": [
      "Setting up a new session...\n"
     ]
    }
   ],
   "source": [
    "viz = Visdom()  # 实例化窗口\n",
    "viz.line([0.], [0.], win='loss and accuracy', opts=dict(title='train_loss'))\n",
    "\n",
    "for n_iter in range (10):\n",
    "    loss = 0.2 * np.random.randn() + 1\n",
    "    accuracy = 0.1 * np.random.randn()\n",
    "    viz.line(Y=[loss], X=[n_iter], name='loss line', win='loss and accuracy', update='append')\n",
    "    viz.line(Y=[accuracy], X=[n_iter], name='accuracy line', win='loss and accuracy', update='append')\n",
    "    time.sleep(0.5)"
   ]
  }
 ],
 "metadata": {
  "interpreter": {
   "hash": "fcf34018491d9bd3ef31166662b4dd1e52e7c1b62f1d6d6644835049dcdb0d97"
  },
  "kernelspec": {
   "display_name": "Python 3.9.11 64-bit",
   "language": "python",
   "name": "python3"
  },
  "language_info": {
   "codemirror_mode": {
    "name": "ipython",
    "version": 3
   },
   "file_extension": ".py",
   "mimetype": "text/x-python",
   "name": "python",
   "nbconvert_exporter": "python",
   "pygments_lexer": "ipython3",
   "version": "3.9.11"
  },
  "orig_nbformat": 4
 },
 "nbformat": 4,
 "nbformat_minor": 2
}
